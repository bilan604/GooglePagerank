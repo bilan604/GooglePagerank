{
 "cells": [
  {
   "cell_type": "code",
   "execution_count": 1,
   "id": "948c99c2-4e05-419e-b4fd-282972cb8387",
   "metadata": {},
   "outputs": [],
   "source": [
    "import math\n",
    "import random\n",
    "import statistics\n",
    "import numpy as np\n",
    "import pandas as pd\n",
    "import seaborn as sns\n",
    "import matplotlib.pyplot as plt\n",
    "from timeit import default_timer\n",
    "from numpy import unique, ravel\n",
    "from numpy import sqrt, dot, array, diagonal, mean, transpose, eye, diag, ones\n",
    "from numpy import transpose, diag, dot\n",
    "from numpy.linalg import svd, inv, qr, det\n",
    "from sklearn.linear_model import LinearRegression"
   ]
  },
  {
   "cell_type": "markdown",
   "id": "663cfd08-b2a7-46ca-a871-943ad83dd040",
   "metadata": {},
   "source": [
    "# For getting the top 20 pages and viewing them with print() statements"
   ]
  },
  {
   "cell_type": "code",
   "execution_count": 2,
   "id": "c5dbd209-7316-4b08-86d9-56fc44147173",
   "metadata": {},
   "outputs": [],
   "source": [
    "def topPages(__PRs, __U, __n = 10, TR=False):\n",
    "    dd = {i: __PRs[i] for i in range(len(__PRs))}\n",
    "    dd = {__U[page]: rank for page, rank in sorted(dd.items(), key=lambda kv: kv[1], reverse=True)}\n",
    "    __pages = list(dd.keys())[:__n]\n",
    "    dd= {page: dd[page] for page in __pages}\n",
    "    if TR:\n",
    "        return {\"Link\": list(dd.keys()), \"Value\": ravel(list(dd.values()))}\n",
    "    return dd\n",
    "    \n",
    "\n",
    "def viewTopPages(__PRs, __U, __n = 10):\n",
    "    if len(__PRs) == 1:\n",
    "        __PRs = __PRs[0]\n",
    "    __topPages = topPages(__PRs, __U, __n)\n",
    "    for __page in __topPages:\n",
    "        print(__page, __topPages[__page])"
   ]
  },
  {
   "cell_type": "markdown",
   "id": "a82c43e7-3d1e-447b-b092-321f67ef6390",
   "metadata": {},
   "source": [
    "# Reading the data and deleting gibberish links"
   ]
  },
  {
   "cell_type": "code",
   "execution_count": 3,
   "id": "fbedc79b-f2ff-4383-837b-35cb59ce48f5",
   "metadata": {},
   "outputs": [
    {
     "name": "stdout",
     "output_type": "stream",
     "text": [
      "Removing links: http:/, http://b, http:, http://www, http://www., http:<a href=, http://edge\n",
      "Matrix A is of Dimensions 493x493\n"
     ]
    }
   ],
   "source": [
    "with open(\"U.txt\") as f:\n",
    "    U = f.readlines()\n",
    "    Uraw = array(U)\n",
    "\n",
    "with open(\"A.txt\") as f2:\n",
    "    A = f2.readlines()\n",
    "\n",
    "U = [link[1:-2] for link in U]\n",
    "A = [row[:-1] for row in A if row[-1] == \"\\n\"]\n",
    "A = [row.split(\",\") for row in A]\n",
    "A = array([[int(entry) for entry in row] for row in A]).T\n",
    "\n",
    "remove = [U[i] for i in (1, 45, 68, 149, 322, 381, 470)]\n",
    "space = \", \"\n",
    "print(f\"Removing links: {space.join(remove)}\")\n",
    "\n",
    "for link in remove:\n",
    "    rem_ind = list(U).index(link)\n",
    "    U = np.delete(U, rem_ind, 0)\n",
    "    A = np.delete(A, rem_ind, 0)\n",
    "    A = np.delete(A, rem_ind, 1)\n",
    "print(f\"Matrix A is of Dimensions {len(A)}x{len(A[0])}\")"
   ]
  },
  {
   "cell_type": "markdown",
   "id": "e57a603c-2a1f-43f2-a05d-5db821b9ed96",
   "metadata": {
    "tags": []
   },
   "source": [
    "# Old Iterative Page Rank Solution"
   ]
  },
  {
   "cell_type": "markdown",
   "id": "c2570110-86c4-44ea-9ca4-a70679bbe06b",
   "metadata": {},
   "source": [
    "This solution demonstrtes that the page rank problem can be solved iteratively."
   ]
  },
  {
   "cell_type": "code",
   "execution_count": 4,
   "id": "b43ee8a4-b7ac-46c9-9c6d-5221a9922c24",
   "metadata": {},
   "outputs": [],
   "source": [
    "n = len(A)\n",
    "ninv = 1/n\n",
    "TP = 0.85\n",
    "TP_away = (1/n) * (1-TP)\n",
    "\n",
    "\n",
    "class Page(object):\n",
    "    def __init__(self, index):\n",
    "        self.index = index\n",
    "        self.in_links = []\n",
    "        self.out_links = []\n",
    "        self.rank = 0.1\n",
    "\n",
    "class Network(object):\n",
    "    def setupLinks(self):\n",
    "        for page in self.pages:\n",
    "            for i in range(len(self.A)):\n",
    "                if self.A[page.index, i] == 1:\n",
    "                    page.out_links.append(self.pages[i])\n",
    "                if self.A[i, page.index] == 1:\n",
    "                    page.in_links.append(self.pages[i])\n",
    "    \n",
    "    def __init__(self, adj_mtx):\n",
    "        self.A = adj_mtx\n",
    "        self.pages = [Page(index) for index in range(len(adj_mtx))]\n",
    "        self.setupLinks()\n",
    "\n",
    "    def surf(self, max_iter):\n",
    "        for itr in range(max_iter):\n",
    "            for page in self.pages:\n",
    "                page.rank = TP * sum([p.rank / len(p.out_links) for p in page.in_links]) + TP_away\n",
    "\n",
    "    def getPageRanks(self):\n",
    "        norm = 1 / sum([page.rank for page in self.pages])\n",
    "        return [norm * page.rank for page in self.pages]\n",
    "        \n",
    "network = Network(A.copy())"
   ]
  },
  {
   "cell_type": "code",
   "execution_count": 5,
   "id": "cb59b3d9-2130-4ff9-8ac4-84094fe057e5",
   "metadata": {},
   "outputs": [
    {
     "name": "stdout",
     "output_type": "stream",
     "text": [
      "PyIter/network took: 0.03187229996547103s for 50 iterations\n"
     ]
    },
    {
     "data": {
      "text/plain": [
       "{'http://ucdavis.edu/help/privacy-accessibility.html': 0.025697554706492265,\n",
       " 'http://xmlns.com/foaf/0.1': 0.024467300234163766,\n",
       " 'http://www.universityofcalifornia.edu': 0.02259976138991662,\n",
       " 'http://browsehappy.com': 0.011522727615168819,\n",
       " 'http://creativecommons.org/ns#': 0.011314904831628333,\n",
       " 'http://disabilities.ucsd.edu': 0.010988129537824472,\n",
       " 'http://ogp.me/ns#': 0.009023869372262369,\n",
       " 'http://students.ucsd.edu': 0.008789076012161522,\n",
       " 'http:\\\\/\\\\/schema.org': 0.008719538160017424,\n",
       " 'http://drupal.org)': 0.00802961270927646}"
      ]
     },
     "execution_count": 5,
     "metadata": {},
     "output_type": "execute_result"
    }
   ],
   "source": [
    "n_iterations = 50\n",
    "\n",
    "start = default_timer()\n",
    "network.surf(n_iterations)\n",
    "stop = default_timer()\n",
    "\n",
    "network_time = stop - start\n",
    "print(f'PyIter/network took: {network_time}s for {n_iterations} iterations')\n",
    "\n",
    "network_TP = topPages(network.getPageRanks(), U)  # dict\n",
    "network_TP"
   ]
  },
  {
   "cell_type": "markdown",
   "id": "eb222f20-f609-41a0-b13f-36bfd32ec9d3",
   "metadata": {},
   "source": [
    "# Linear Regression and SVD Dense Solvers"
   ]
  },
  {
   "cell_type": "code",
   "execution_count": 6,
   "id": "d00e50a6-d7a7-4915-9503-be0c8a19c6f9",
   "metadata": {
    "tags": []
   },
   "outputs": [],
   "source": [
    "def convertToP(A):\n",
    "    n = len(A)\n",
    "    p = 0.85\n",
    "    p1 = 0.15/n\n",
    "    p2 = 1.0/n\n",
    "    P = []\n",
    "    for i in range(n):\n",
    "        r = []\n",
    "        ri = sum(A[i])\n",
    "        if sum(A[i]) > 0:\n",
    "            for j in range(n):\n",
    "                r.append(p*(A[i,j]/ri) + p1)\n",
    "        else:\n",
    "            for j in range(n):\n",
    "                r.append(p2)\n",
    "        P.append(r)\n",
    "    return array(P)\n",
    "\n",
    "P = convertToP(A)\n",
    "\n",
    "n = len(A)\n",
    "p = 0.85\n",
    "ri_not0 = (1-p)/float(n)\n",
    "\n",
    "IP = np.eye(n) - P.T\n",
    "np.sum(IP[:,0])\n",
    "IP[0] = ones(n)\n",
    "b = np.zeros(n).reshape(n,1)\n",
    "b[0] = 1.0"
   ]
  },
  {
   "cell_type": "code",
   "execution_count": 7,
   "id": "b4a3c99a-b1f2-4cbf-bb36-3764ac51c23e",
   "metadata": {},
   "outputs": [
    {
     "name": "stdout",
     "output_type": "stream",
     "text": [
      "Page Ranks for Network (50 iter): 0.03187229996547103 seconds\n",
      "Page Ranks for Linear Regression: 0.08833429997321218 seconds\n",
      "Page Ranks for SVD at: 0.12755400000605732 seconds\n",
      "\n",
      "For PyIter\n",
      "http://ucdavis.edu/help/privacy-accessibility.html 0.025697554706492265\n",
      "http://xmlns.com/foaf/0.1 0.024467300234163766\n",
      "http://www.universityofcalifornia.edu 0.02259976138991662\n",
      "http://browsehappy.com 0.011522727615168819\n",
      "http://creativecommons.org/ns# 0.011314904831628333\n",
      "http://disabilities.ucsd.edu 0.010988129537824472\n",
      "http://ogp.me/ns# 0.009023869372262369\n",
      "http://students.ucsd.edu 0.008789076012161522\n",
      "http:\\/\\/schema.org 0.008719538160017424\n",
      "http://drupal.org) 0.00802961270927646\n",
      "\n",
      "For Dense eigen-solution SVD\n",
      "http://ucdavis.edu/help/privacy-accessibility.html [0.02571485]\n",
      "http://xmlns.com/foaf/0.1 [0.02416929]\n",
      "http://www.universityofcalifornia.edu [0.02261497]\n",
      "http://browsehappy.com [0.01153048]\n",
      "http://creativecommons.org/ns# [0.0111865]\n",
      "http://disabilities.ucsd.edu [0.01089146]\n",
      "http://ogp.me/ns# [0.00902994]\n",
      "http:\\/\\/schema.org [0.00872541]\n",
      "http://students.ucsd.edu [0.00867845]\n",
      "http://drupal.org) [0.00803502]\n",
      "\n",
      "For Dense Linear Regression\n",
      "http://ucdavis.edu/help/privacy-accessibility.html 0.025768312435133556\n",
      "http://xmlns.com/foaf/0.1 0.02412928353554443\n",
      "http://www.universityofcalifornia.edu 0.022641299915283245\n",
      "http://browsehappy.com 0.011513969090440336\n",
      "http://creativecommons.org/ns# 0.01117462655337171\n",
      "http://disabilities.ucsd.edu 0.010869375284685746\n",
      "http://ogp.me/ns# 0.009012508899369472\n",
      "http:\\/\\/schema.org 0.008710801765883833\n",
      "http://students.ucsd.edu 0.0086608568005464\n",
      "http://drupal.org) 0.008025737528047704\n"
     ]
    }
   ],
   "source": [
    "print(f'Page Ranks for Network (50 iter): {network_time} seconds')\n",
    "\n",
    "skLinReg = LinearRegression()\n",
    "start = default_timer()\n",
    "skLinReg.fit(IP,b)\n",
    "stop = default_timer()\n",
    "print(f'Page Ranks for Linear Regression: {stop - start} seconds')\n",
    "\n",
    "start = default_timer()\n",
    "u,d,v = svd(IP)\n",
    "x = dot(v.T, inv(diag(d))).dot(u.T).dot(b)\n",
    "stop = default_timer()\n",
    "print(f'Page Ranks for SVD at: {stop - start} seconds')\n",
    "\n",
    "print(\"\")\n",
    "print(\"For PyIter\")\n",
    "viewTopPages(network.getPageRanks(), U)\n",
    "print(\"\")\n",
    "print(\"For Dense eigen-solution SVD\")\n",
    "viewTopPages(x, U)\n",
    "print(\"\")\n",
    "print(\"For Dense Linear Regression\")\n",
    "viewTopPages(skLinReg.coef_, U)"
   ]
  },
  {
   "cell_type": "code",
   "execution_count": 8,
   "id": "3915afde-b433-407e-9d4c-fd886790cd7d",
   "metadata": {},
   "outputs": [
    {
     "data": {
      "text/plain": [
       "[0.000879576900517748,\n",
       " 0.002437562937439456,\n",
       " 0.003100355927015785,\n",
       " 0.0034354325247301096,\n",
       " 0.0025403881730138252,\n",
       " 0.005440479247305656,\n",
       " 0.0025403881730138252,\n",
       " 0.0025403881730138252,\n",
       " 0.0021433082879197514,\n",
       " 0.0021433082879197514]"
      ]
     },
     "execution_count": 8,
     "metadata": {},
     "output_type": "execute_result"
    }
   ],
   "source": [
    "network.getPageRanks()[:10]"
   ]
  },
  {
   "cell_type": "code",
   "execution_count": 9,
   "id": "ce45835b-d997-434c-85f4-9ba1965e842e",
   "metadata": {},
   "outputs": [
    {
     "data": {
      "text/plain": [
       "{'Link': ['http://ucdavis.edu/help/privacy-accessibility.html',\n",
       "  'http://xmlns.com/foaf/0.1',\n",
       "  'http://www.universityofcalifornia.edu',\n",
       "  'http://browsehappy.com',\n",
       "  'http://creativecommons.org/ns#'],\n",
       " 'Value': array([0.02571485, 0.02416929, 0.02261497, 0.01153048, 0.0111865 ])}"
      ]
     },
     "execution_count": 9,
     "metadata": {},
     "output_type": "execute_result"
    }
   ],
   "source": [
    "x_TP = topPages(x, U, 5, TR=True)\n",
    "x_TP"
   ]
  },
  {
   "cell_type": "code",
   "execution_count": 10,
   "id": "68a22e70-4c11-48fe-9eb5-999f3858d139",
   "metadata": {},
   "outputs": [
    {
     "data": {
      "text/html": [
       "<div>\n",
       "<style scoped>\n",
       "    .dataframe tbody tr th:only-of-type {\n",
       "        vertical-align: middle;\n",
       "    }\n",
       "\n",
       "    .dataframe tbody tr th {\n",
       "        vertical-align: top;\n",
       "    }\n",
       "\n",
       "    .dataframe thead th {\n",
       "        text-align: right;\n",
       "    }\n",
       "</style>\n",
       "<table border=\"1\" class=\"dataframe\">\n",
       "  <thead>\n",
       "    <tr style=\"text-align: right;\">\n",
       "      <th></th>\n",
       "      <th>Link</th>\n",
       "      <th>Value</th>\n",
       "    </tr>\n",
       "  </thead>\n",
       "  <tbody>\n",
       "    <tr>\n",
       "      <th>0</th>\n",
       "      <td>http://ucdavis.edu/help/privacy-accessibility....</td>\n",
       "      <td>0.025715</td>\n",
       "    </tr>\n",
       "    <tr>\n",
       "      <th>1</th>\n",
       "      <td>http://xmlns.com/foaf/0.1</td>\n",
       "      <td>0.024169</td>\n",
       "    </tr>\n",
       "    <tr>\n",
       "      <th>2</th>\n",
       "      <td>http://www.universityofcalifornia.edu</td>\n",
       "      <td>0.022615</td>\n",
       "    </tr>\n",
       "    <tr>\n",
       "      <th>3</th>\n",
       "      <td>http://browsehappy.com</td>\n",
       "      <td>0.011530</td>\n",
       "    </tr>\n",
       "    <tr>\n",
       "      <th>4</th>\n",
       "      <td>http://creativecommons.org/ns#</td>\n",
       "      <td>0.011187</td>\n",
       "    </tr>\n",
       "  </tbody>\n",
       "</table>\n",
       "</div>"
      ],
      "text/plain": [
       "                                                Link     Value\n",
       "0  http://ucdavis.edu/help/privacy-accessibility....  0.025715\n",
       "1                          http://xmlns.com/foaf/0.1  0.024169\n",
       "2              http://www.universityofcalifornia.edu  0.022615\n",
       "3                             http://browsehappy.com  0.011530\n",
       "4                     http://creativecommons.org/ns#  0.011187"
      ]
     },
     "execution_count": 10,
     "metadata": {},
     "output_type": "execute_result"
    }
   ],
   "source": [
    "df_x_TP = pd.DataFrame(x_TP)\n",
    "df_x_TP"
   ]
  },
  {
   "cell_type": "code",
   "execution_count": 11,
   "id": "e0ef0b7d-0a24-4f33-a1a3-ebc6c909f0c6",
   "metadata": {},
   "outputs": [
    {
     "data": {
      "text/plain": [
       "<AxesSubplot:xlabel='Value', ylabel='Link'>"
      ]
     },
     "execution_count": 11,
     "metadata": {},
     "output_type": "execute_result"
    },
    {
     "data": {
      "image/png": "[encoded data removed]",
      "text/plain": [
       "<Figure size 432x288 with 1 Axes>"
      ]
     },
     "metadata": {
      "needs_background": "light"
     },
     "output_type": "display_data"
    }
   ],
   "source": [
    "sns.barplot(x=\"Value\", y=\"Link\", data=pd.DataFrame(topPages(network.getPageRanks(), U, 10, TR=True)))"
   ]
  },
  {
   "cell_type": "code",
   "execution_count": 12,
   "id": "2ac668c0-83ee-4a7e-b450-966a4b40d7b4",
   "metadata": {},
   "outputs": [
    {
     "data": {
      "text/plain": [
       "<AxesSubplot:xlabel='Value', ylabel='Link'>"
      ]
     },
     "execution_count": 12,
     "metadata": {},
     "output_type": "execute_result"
    },
    {
     "data": {
      "image/png": "[encoded data removed]",
      "text/plain": [
       "<Figure size 432x288 with 1 Axes>"
      ]
     },
     "metadata": {
      "needs_background": "light"
     },
     "output_type": "display_data"
    }
   ],
   "source": [
    "sns.barplot(x=\"Value\", y=\"Link\", data=pd.DataFrame(topPages(x, U, 10, TR=True)))"
   ]
  },
  {
   "cell_type": "code",
   "execution_count": 13,
   "id": "f3b737e1-6d81-4f7f-add3-09e681445b44",
   "metadata": {},
   "outputs": [
    {
     "data": {
      "text/plain": [
       "<AxesSubplot:xlabel='Value', ylabel='Link'>"
      ]
     },
     "execution_count": 13,
     "metadata": {},
     "output_type": "execute_result"
    },
    {
     "data": {
      "image/png": "[encoded data removed]",
      "text/plain": [
       "<Figure size 432x288 with 1 Axes>"
      ]
     },
     "metadata": {
      "needs_background": "light"
     },
     "output_type": "display_data"
    }
   ],
   "source": [
    "sns.barplot(x=\"Value\", y=\"Link\", data=pd.DataFrame(topPages(ravel(skLinReg.coef_), U, 10, TR=True)))"
   ]
  },
  {
   "cell_type": "code",
   "execution_count": 14,
   "id": "215b183c-b6c0-434d-834a-7f80180cce6b",
   "metadata": {},
   "outputs": [
    {
     "name": "stdout",
     "output_type": "stream",
     "text": [
      "Power Method: 0.006393300020135939 seconds\n"
     ]
    }
   ],
   "source": [
    "x_PowSol = np.zeros(493).reshape(493,1)\n",
    "for i in range(len(x_PowSol)):\n",
    "    x_PowSol[i] = 1/len(x_PowSol)\n",
    "\n",
    "start = default_timer()\n",
    "for itr in range(50):\n",
    "    x_PowSol = dot(P.T, x_PowSol)\n",
    "stop = default_timer()\n",
    "\n",
    "print(f'Power Method: {stop - start} seconds')"
   ]
  },
  {
   "cell_type": "code",
   "execution_count": 15,
   "id": "75fd17b2-194f-496b-a397-1fd4372190a8",
   "metadata": {},
   "outputs": [
    {
     "data": {
      "text/plain": [
       "<AxesSubplot:xlabel='Value', ylabel='Link'>"
      ]
     },
     "execution_count": 15,
     "metadata": {},
     "output_type": "execute_result"
    },
    {
     "data": {
      "image/png": "[encoded data removed]",
      "text/plain": [
       "<Figure size 432x288 with 1 Axes>"
      ]
     },
     "metadata": {
      "needs_background": "light"
     },
     "output_type": "display_data"
    }
   ],
   "source": [
    "sns.barplot(x=\"Value\", y=\"Link\", data=pd.DataFrame(topPages(ravel(x_PowSol), U, 10, TR=True)))"
   ]
  },
  {
   "cell_type": "code",
   "execution_count": 16,
   "id": "402aee3d-3db4-4909-b328-a4d8ff565034",
   "metadata": {},
   "outputs": [],
   "source": [
    "names = [\"PowerIter\", \"PyIter\", \"LR_Dense\", \"SVD_Dense\"]\n",
    "times = [0.00775069999508559,\n",
    "0.02834740001708269,\n",
    "0.08361859997967258,\n",
    "0.20092139998450875]"
   ]
  },
  {
   "cell_type": "code",
   "execution_count": 17,
   "id": "48588f62-9932-4fed-8d53-3b6d92a8cadd",
   "metadata": {},
   "outputs": [
    {
     "data": {
      "text/plain": [
       "<AxesSubplot:xlabel='Method', ylabel='Seconds'>"
      ]
     },
     "execution_count": 17,
     "metadata": {},
     "output_type": "execute_result"
    },
    {
     "data": {
      "image/png": "[encoded data removed]",
      "text/plain": [
       "<Figure size 432x288 with 1 Axes>"
      ]
     },
     "metadata": {
      "needs_background": "light"
     },
     "output_type": "display_data"
    }
   ],
   "source": [
    "sns.barplot(x=\"Method\", y=\"Seconds\", data=pd.DataFrame({\"Method\":names, \"Seconds\":times}))"
   ]
  },
  {
   "cell_type": "markdown",
   "id": "7b9365bf-09eb-4462-8872-555946ffd39e",
   "metadata": {},
   "source": [
    "# Phi and e"
   ]
  },
  {
   "cell_type": "code",
   "execution_count": 18,
   "id": "d148c539-82cb-4a9a-bd35-9b0965a83c65",
   "metadata": {},
   "outputs": [
    {
     "name": "stdout",
     "output_type": "stream",
     "text": [
      "1.618033988749895\n"
     ]
    }
   ],
   "source": [
    "def phi(n):\n",
    "    if n == 1:\n",
    "        return 1\n",
    "    return 1/phi(n-1) + 1\n",
    "    \n",
    "print(phi(50))"
   ]
  },
  {
   "cell_type": "code",
   "execution_count": 19,
   "id": "31664654-274f-4205-94bb-4881b2f4f5bf",
   "metadata": {},
   "outputs": [
    {
     "name": "stdout",
     "output_type": "stream",
     "text": [
      "2.7182818284590455\n"
     ]
    }
   ],
   "source": [
    "def e(n, v=1, c=1):\n",
    "    if n == 1:\n",
    "        return 1\n",
    "    return 1/v + e(n-1, v * (c+1), c+1)\n",
    "\n",
    "print(e(50))"
   ]
  },
  {
   "cell_type": "code",
   "execution_count": null,
   "id": "b6b01511-7f59-4a9e-badc-34ae89118fad",
   "metadata": {},
   "outputs": [],
   "source": []
  },
  {
   "cell_type": "code",
   "execution_count": null,
   "id": "428c351d-fd31-4108-a46f-b463b7ba868f",
   "metadata": {},
   "outputs": [],
   "source": []
  }
 ],
 "metadata": {
  "kernelspec": {
   "display_name": "Python 3 (ipykernel)",
   "language": "python",
   "name": "python3"
  },
  "language_info": {
   "codemirror_mode": {
    "name": "ipython",
    "version": 3
   },
   "file_extension": ".py",
   "mimetype": "text/x-python",
   "name": "python",
   "nbconvert_exporter": "python",
   "pygments_lexer": "ipython3",
   "version": "3.10.4"
  }
 },
 "nbformat": 4,
 "nbformat_minor": 5
}
